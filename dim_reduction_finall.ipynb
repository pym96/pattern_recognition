{
 "cells": [
  {
   "cell_type": "code",
   "execution_count": null,
   "id": "34ab6c78",
   "metadata": {},
   "outputs": [],
   "source": [
    "from sklearn.datasets import fetch_lfw_people\n",
    "\n",
    "lfw_dataset = fetch_lfw_people(min_faces_per_person=70, resize=0.4)\n",
    "lfw_dataset"
   ]
  },
  {
   "cell_type": "code",
   "execution_count": null,
   "id": "eefdfedc",
   "metadata": {},
   "outputs": [],
   "source": [
    "# Display a few face images\n",
    "fig, axarr = plt.subplots(1, 5, figsize=(12, 5))\n",
    "for i in range(5):\n",
    "    axarr[i].imshow(lfw_dataset.images[i], cmap='gray')\n",
    "    axarr[i].set_title(lfw_dataset.target_names[lfw_dataset.target[i]])\n",
    "    axarr[i].axis('off')\n",
    "plt.show()"
   ]
  }
 ],
 "metadata": {
  "kernelspec": {
   "display_name": "Python 3 (ipykernel)",
   "language": "python",
   "name": "python3"
  },
  "language_info": {
   "codemirror_mode": {
    "name": "ipython",
    "version": 3
   },
   "file_extension": ".py",
   "mimetype": "text/x-python",
   "name": "python",
   "nbconvert_exporter": "python",
   "pygments_lexer": "ipython3",
   "version": "3.10.11"
  }
 },
 "nbformat": 4,
 "nbformat_minor": 5
}
